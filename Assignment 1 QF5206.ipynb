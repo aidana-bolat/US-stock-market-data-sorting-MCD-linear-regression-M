{
 "cells": [
  {
   "cell_type": "code",
   "execution_count": 6,
   "id": "9dca9897",
   "metadata": {},
   "outputs": [
    {
     "name": "stdout",
     "output_type": "stream",
     "text": [
      "      tickers        GICS\n",
      "0    0111145D         NaN\n",
      "1    0202445Q         NaN\n",
      "2    0203524D         NaN\n",
      "3    0226226D         NaN\n",
      "4    0544749D         NaN\n",
      "..        ...         ...\n",
      "917       YUM  25301040.0\n",
      "918       ZBH  35101010.0\n",
      "919      ZBRA  45203010.0\n",
      "920      ZION  40101015.0\n",
      "921       ZTS  35202010.0\n",
      "\n",
      "[922 rows x 2 columns]\n"
     ]
    },
    {
     "data": {
      "text/plain": [
       "101020    29\n",
       "601010    28\n",
       "403010    21\n",
       "255040    20\n",
       "351020    19\n",
       "          ..\n",
       "351030     1\n",
       "253020     1\n",
       "551040     1\n",
       "551050     1\n",
       "601020     1\n",
       "Name: GICS, Length: 62, dtype: int64"
      ]
     },
     "execution_count": 6,
     "metadata": {},
     "output_type": "execute_result"
    }
   ],
   "source": [
    "import pandas as pd\n",
    "import math\n",
    "import numpy as np\n",
    "tickers = pd.read_csv (r'C:\\Users\\HP\\Downloads\\tickers.csv')\n",
    "print(tickers)\n",
    "univ_h=pd.read_csv(r'C:\\Users\\HP\\Downloads\\univ_h.csv',index_col=0)\n",
    "\n",
    "year2017=univ_h.loc[2017] #extracted year 2017 and tickers data\n",
    "\n",
    "#made dataframe for year2017 , dropped #NA values\n",
    "new1=tickers.assign(year2017=year2017.tolist())  \n",
    "  \n",
    "new1=new1.dropna()\n",
    "\n",
    "#sorted by GICS values\n",
    "new1=new1.sort_values('GICS')\n",
    "\n",
    "#dropped 0 values because it means it wasn't in the universe that year\n",
    "new1.drop(new1[new1['year2017'] == 0].index, inplace = True)\n",
    "\n",
    "#extracted gics and turned to string and cut the string to the first 6 digits\n",
    "gics1=new1.iloc[:,1]\n",
    "gics1=gics1.tolist()\n",
    "for i in range (len(gics1)):\n",
    "    a=gics1[i]\n",
    "    b=str(a)\n",
    "    gics1[i]=b[:6]\n",
    "\n",
    "#put back cutted gics values\n",
    "new1=new1.assign(GICS=gics1)\n",
    "#counted number of stocks by industry\n",
    "industries=new1['GICS'].value_counts()\n",
    "\n",
    "\n"
   ]
  },
  {
   "cell_type": "code",
   "execution_count": 3,
   "id": "338f4d76",
   "metadata": {},
   "outputs": [
    {
     "data": {
      "text/plain": [
       "601010    28\n",
       "403010    22\n",
       "402030    21\n",
       "453010    20\n",
       "451020    19\n",
       "          ..\n",
       "551020     1\n",
       "201030     1\n",
       "551040     1\n",
       "551050     1\n",
       "601020     1\n",
       "Name: GICS, Length: 63, dtype: int64"
      ]
     },
     "execution_count": 3,
     "metadata": {},
     "output_type": "execute_result"
    }
   ],
   "source": [
    "year2022=univ_h.loc[2022]\n",
    "new2=tickers.assign(year2022=year2022.tolist())\n",
    "new2=new2.dropna()\n",
    "new2=new2.sort_values('GICS')\n",
    "new2.drop(new2[new2['year2022'] == 0].index, inplace = True)\n",
    "gics2=new2.iloc[:,1]\n",
    "gics2=gics2.tolist()\n",
    "for i in range (len(gics2)):\n",
    "    a=gics2[i]\n",
    "    b=str(a)\n",
    "    gics2[i]=b[:6]\n",
    "new2=new2.assign(GICS=gics2)\n",
    "new2['GICS'].value_counts()"
   ]
  },
  {
   "cell_type": "code",
   "execution_count": null,
   "id": "548c60d1",
   "metadata": {},
   "outputs": [],
   "source": []
  },
  {
   "cell_type": "code",
   "execution_count": 4,
   "id": "7a1ec87d",
   "metadata": {},
   "outputs": [],
   "source": [
    "#industry MCD belongs to: 253010\n"
   ]
  },
  {
   "cell_type": "code",
   "execution_count": 5,
   "id": "500c65c9",
   "metadata": {
    "scrolled": true
   },
   "outputs": [
    {
     "name": "stdout",
     "output_type": "stream",
     "text": [
      "number of stocks in the industry 253010: 18\n",
      "['CZR', 'PENN', 'MGM', 'LVS', 'WYNN', 'NCLH', 'MAR', 'BKNG', 'EXPE', 'CCL', 'HLT', 'RCL', 'DRI', 'CMG', 'SBUX', 'DPZ', 'YUM', 'MCD']\n"
     ]
    }
   ],
   "source": [
    "ind=[]\n",
    "ticker2022=new2.iloc[:,0].tolist()\n",
    "\n",
    "for i in range (len(new2)):\n",
    "    if gics2[i]=='253010':\n",
    "        ind.append(ticker2022[i])\n",
    "print('number of stocks in the industry 253010:',len(ind))\n",
    "print(ind)"
   ]
  },
  {
   "cell_type": "code",
   "execution_count": 6,
   "id": "a68f7c82",
   "metadata": {},
   "outputs": [],
   "source": [
    "\n",
    "r1=[]\n",
    "r2=[]\n",
    "r3=[]\n",
    "r4=[]\n",
    "r5=[]\n",
    "r6=[]\n",
    "r7=[]\n",
    "r8=[]\n",
    "r9=[]\n",
    "r10=[]\n",
    "r11=[]\n",
    "r12=[]\n",
    "r13=[]\n",
    "r14=[]\n",
    "r15=[]\n",
    "r16=[]\n",
    "r17=[]\n",
    "r18=[]\n",
    "r_ind=[]\n",
    "adj=pd.read_csv (r'C:\\Users\\HP\\Downloads\\adjusted.csv')\n",
    "#EXTRACT ROWS FROM 20170703-20220630, and columns that belongs to 253010 industry\n",
    "adj.drop(adj[adj['Date'] <20170703].index, inplace=True)\n",
    "newadj = adj[ind].copy()\n"
   ]
  },
  {
   "cell_type": "code",
   "execution_count": 7,
   "id": "4a1612f6",
   "metadata": {},
   "outputs": [],
   "source": [
    "for i in range (len(newadj)-1):\n",
    "    r1.append(math.log(newadj['CZR'][i+1+3650]/newadj['CZR'][i+3650]))\n",
    "    r2.append(math.log(newadj['PENN'][i+1+3650]/newadj['PENN'][i+3650]))\n",
    "    r3.append(math.log(newadj['MGM'][i+1+3650]/newadj['MGM'][i+3650]))\n",
    "    r4.append(math.log(newadj['LVS'][i+1+3650]/newadj['LVS'][i+3650]))\n",
    "    r5.append(math.log(newadj['WYNN'][i+1+3650]/newadj['WYNN'][i+3650]))\n",
    "    r6.append(math.log(newadj['NCLH'][i+1+3650]/newadj['NCLH'][i+3650]))\n",
    "    r7.append(math.log(newadj['MAR'][i+1+3650]/newadj['MAR'][i+3650]))\n",
    "    r8.append(math.log(newadj['BKNG'][i+1+3650]/newadj['BKNG'][i+3650]))\n",
    "    r9.append(math.log(newadj['EXPE'][i+1+3650]/newadj['EXPE'][i+3650]))\n",
    "    r10.append(math.log(newadj['CCL'][i+1+3650]/newadj['CCL'][i+3650]))\n",
    "    r11.append(math.log(newadj['HLT'][i+1+3650]/newadj['HLT'][i+3650]))\n",
    "    r12.append(math.log(newadj['RCL'][i+1+3650]/newadj['RCL'][i+3650]))\n",
    "    r13.append(math.log(newadj['DRI'][i+1+3650]/newadj['DRI'][i+3650]))\n",
    "    r14.append(math.log(newadj['CMG'][i+1+3650]/newadj['CMG'][i+3650]))\n",
    "    r15.append(math.log(newadj['SBUX'][i+1+3650]/newadj['SBUX'][i+3650]))\n",
    "    r16.append(math.log(newadj['DPZ'][i+1+3650]/newadj['DPZ'][i+3650]))\n",
    "    r17.append(math.log(newadj['YUM'][i+1+3650]/newadj['YUM'][i+3650]))\n",
    "    r18.append(math.log(newadj['MCD'][i+1+3650]/newadj['MCD'][i+3650]))\n",
    "    r_ind.append((r1[i]+r2[i]+r3[i]+r4[i]+r5[i]+r6[i]+r7[i]+r8[i]+r9[i]+r10[i]+r11[i]+r12[i]+r13[i]+r14[i]+r15[i]+r16[i]+r17[i]+r18[i])/18)\n",
    "    \n"
   ]
  },
  {
   "cell_type": "code",
   "execution_count": 8,
   "id": "0e16341f",
   "metadata": {},
   "outputs": [
    {
     "name": "stdout",
     "output_type": "stream",
     "text": [
      "beta: 0.3954218498716628\n",
      "alpha: 0.0004899179315232417\n",
      "R^2: 0.3613425679443344\n"
     ]
    },
    {
     "data": {
      "image/png": "[encoded data removed]",
      "text/plain": [
       "<Figure size 432x288 with 1 Axes>"
      ]
     },
     "metadata": {
      "needs_background": "light"
     },
     "output_type": "display_data"
    }
   ],
   "source": [
    "import matplotlib.pyplot as plt\n",
    "\n",
    "y_pred=[]\n",
    "residuals=[]\n",
    "beta, alpha = np.polyfit(r_ind, r18, 1)\n",
    "for i in range(len(r_ind)):\n",
    "    y_pred.append( beta*r_ind[i] + alpha)\n",
    "plt.plot(r_ind, r18, '.')\n",
    "plt.plot(r_ind, y_pred)\n",
    "plt.title('mcd vs regression model')\n",
    "plt.xlabel('industry return: arithmetic mean')\n",
    "plt.ylabel('mcd')\n",
    "print('beta:',beta)\n",
    "print('alpha:',alpha)\n",
    "y_bar=np.mean(r18)\n",
    "RSS=0\n",
    "TSS=0\n",
    "for i in range(len(r18)):\n",
    "    residuals.append(r18[i]-y_pred[i])\n",
    "    RSS=RSS+(r18[i]-y_pred[i])**2\n",
    "    TSS=TSS+(r18[i]-y_bar)**2\n",
    "r_squared=1-RSS/TSS\n",
    "print('R^2:',r_squared)"
   ]
  },
  {
   "cell_type": "code",
   "execution_count": 9,
   "id": "95f47764",
   "metadata": {},
   "outputs": [
    {
     "name": "stdout",
     "output_type": "stream",
     "text": [
      "beta: 0.6497831270356611\n",
      "alpha: 0.00035015869023794605\n",
      "R^2: 0.5559916657447233\n"
     ]
    },
    {
     "data": {
      "image/png": "[encoded data removed]",
      "text/plain": [
       "<Figure size 432x288 with 1 Axes>"
      ]
     },
     "metadata": {
      "needs_background": "light"
     },
     "output_type": "display_data"
    }
   ],
   "source": [
    "mktcap=pd.read_csv (r'C:\\Users\\HP\\Downloads\\mktcap.csv',index_col=0)\n",
    "caps=[]\n",
    "for k in ind:\n",
    "    caps.append(mktcap[k][20220103].tolist())\n",
    "sumcaps=np.sum(caps)  \n",
    "\n",
    "r_ind1=[] \n",
    "for i in range(len(r18)):\n",
    "    r_ind1.append((caps[0]*r1[i]+caps[1]*r2[i]+caps[2]*r3[i]+caps[3]*r4[i]+caps[4]*r5[i]+caps[5]*r6[i]+\n",
    "                   caps[6]*r7[i]+caps[7]*r8[i]+caps[8]*r9[i]+caps[9]*r10[i]+caps[10]*r11[i]+\n",
    "                   caps[11]*r12[i]+caps[12]*r13[i]+caps[13]*r14[i]+caps[14]*r15[i]+caps[15]*r16[i]+\n",
    "                   caps[16]*r17[i]+caps[17]*r18[i])/sumcaps)\n",
    "    \n",
    "y_pred=[]\n",
    "residuals=[]\n",
    "beta, alpha = np.polyfit(r_ind1, r18, 1)\n",
    "for i in range(len(r_ind1)):\n",
    "    y_pred.append( beta*r_ind1[i] + alpha)\n",
    "plt.plot(r_ind1, r18, '.')\n",
    "plt.plot(r_ind1, y_pred)\n",
    "plt.title('mcd vs regression model')\n",
    "plt.xlabel('industry return: markets cap weighted ave')\n",
    "plt.ylabel('mcd')\n",
    "print('beta:',beta)\n",
    "print('alpha:',alpha)\n",
    "y_bar=np.mean(r18)\n",
    "RSS=0\n",
    "TSS=0\n",
    "for i in range(len(r18)):\n",
    "    residuals.append(r18[i]-y_pred[i])\n",
    "    RSS=RSS+(r18[i]-y_pred[i])**2\n",
    "    TSS=TSS+(r18[i]-y_bar)**2\n",
    "r_squared=1-RSS/TSS\n",
    "print('R^2:',r_squared)"
   ]
  },
  {
   "cell_type": "code",
   "execution_count": null,
   "id": "fa8b90af",
   "metadata": {},
   "outputs": [],
   "source": []
  },
  {
   "cell_type": "code",
   "execution_count": null,
   "id": "ddc2ad1c",
   "metadata": {},
   "outputs": [],
   "source": []
  },
  {
   "cell_type": "code",
   "execution_count": null,
   "id": "ef30a42b",
   "metadata": {},
   "outputs": [],
   "source": []
  }
 ],
 "metadata": {
  "kernelspec": {
   "display_name": "Python 3 (ipykernel)",
   "language": "python",
   "name": "python3"
  },
  "language_info": {
   "codemirror_mode": {
    "name": "ipython",
    "version": 3
   },
   "file_extension": ".py",
   "mimetype": "text/x-python",
   "name": "python",
   "nbconvert_exporter": "python",
   "pygments_lexer": "ipython3",
   "version": "3.9.7"
  }
 },
 "nbformat": 4,
 "nbformat_minor": 5
}
